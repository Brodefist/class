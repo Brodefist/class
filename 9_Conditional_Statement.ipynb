{
 "cells": [
  {
   "cell_type": "markdown",
   "id": "bc88693f-187c-4512-a633-d34092badeae",
   "metadata": {},
   "source": [
    "# Conditional Statement"
   ]
  },
  {
   "cell_type": "markdown",
   "id": "aac941bd",
   "metadata": {},
   "source": [
    "- hii"
   ]
  },
  {
   "cell_type": "markdown",
   "id": "ec32f52a-caf3-4051-815c-367d5e3253b8",
   "metadata": {},
   "source": [
    "- if\n",
    "- if - else\n",
    "- if - elif - else"
   ]
  },
  {
   "cell_type": "markdown",
   "id": "130e85a8-f345-4565-972c-5a67a9991e37",
   "metadata": {},
   "source": [
    "# if"
   ]
  },
  {
   "cell_type": "code",
   "execution_count": 7,
   "id": "1ed91b36-8b55-4ecd-bfe4-3e221bfb79c7",
   "metadata": {},
   "outputs": [
    {
     "ename": "SyntaxError",
     "evalue": "invalid syntax (2616587546.py, line 3)",
     "output_type": "error",
     "traceback": [
      "\u001b[1;36m  Cell \u001b[1;32mIn[7], line 3\u001b[1;36m\u001b[0m\n\u001b[1;33m    if<write some condition>:\u001b[0m\n\u001b[1;37m      ^\u001b[0m\n\u001b[1;31mSyntaxError\u001b[0m\u001b[1;31m:\u001b[0m invalid syntax\n"
     ]
    }
   ],
   "source": [
    "# syntax\n",
    "\n",
    "if<write some condition>:\n",
    "    <code line 1>\n",
    "    <code line 2>\n",
    "\n",
    "# line starts with  a keyword it will end with a colon(:)\n",
    "## keyword - colon - indentation"
   ]
  },
  {
   "cell_type": "code",
   "execution_count": 9,
   "id": "01be8490-ee1b-479c-9543-d94cbee164f1",
   "metadata": {},
   "outputs": [
    {
     "name": "stdout",
     "output_type": "stream",
     "text": [
      "true\n"
     ]
    }
   ],
   "source": [
    "if 100>10:\n",
    "    print(\"true\")\n",
    "\n",
    "# First the condition will be examined, and then it is true which is  why we are getting true"
   ]
  },
  {
   "cell_type": "code",
   "execution_count": 15,
   "id": "e96539ad-63fe-406b-865b-bd458e54a113",
   "metadata": {},
   "outputs": [],
   "source": [
    "if 10>100:\n",
    "    print(\"true\")\n",
    "\n",
    "# First the condition will be examined, and then it is false which is why we are not getting any answer"
   ]
  },
  {
   "cell_type": "code",
   "execution_count": 17,
   "id": "9ab7dfe4-a3eb-4e22-a4e2-0d2f6bfa8de1",
   "metadata": {},
   "outputs": [
    {
     "ename": "IndentationError",
     "evalue": "expected an indented block after 'if' statement on line 1 (4043978765.py, line 2)",
     "output_type": "error",
     "traceback": [
      "\u001b[1;36m  Cell \u001b[1;32mIn[17], line 2\u001b[1;36m\u001b[0m\n\u001b[1;33m    print(\"true\")\u001b[0m\n\u001b[1;37m    ^\u001b[0m\n\u001b[1;31mIndentationError\u001b[0m\u001b[1;31m:\u001b[0m expected an indented block after 'if' statement on line 1\n"
     ]
    }
   ],
   "source": [
    "if 100>10:\n",
    "print(\"true\")\n",
    "\n",
    "# By not providing any space after (colon:) we will get an indentation error"
   ]
  },
  {
   "cell_type": "code",
   "execution_count": 19,
   "id": "9b225236-c3a9-4da5-8d75-fbc797c4e878",
   "metadata": {},
   "outputs": [
    {
     "name": "stdout",
     "output_type": "stream",
     "text": [
      "true\n"
     ]
    }
   ],
   "source": [
    "if 100>10:\n",
    "    print(\"true\") # Backspace-enter\n"
   ]
  },
  {
   "cell_type": "code",
   "execution_count": 29,
   "id": "a163ce27-78b2-4e9e-8e7f-c429c70a57c2",
   "metadata": {},
   "outputs": [
    {
     "name": "stdout",
     "output_type": "stream",
     "text": [
      "The addition is  60\n"
     ]
    }
   ],
   "source": [
    "if (100>10):\n",
    "    a = 10\n",
    "    b = 20\n",
    "    c = 30\n",
    "    print(\"The addition is \",a+b+c)"
   ]
  },
  {
   "cell_type": "code",
   "execution_count": 39,
   "id": "1172f980-88cc-417f-9f56-ea4622c62574",
   "metadata": {},
   "outputs": [],
   "source": [
    "if (100<10):\n",
    "    breadth=eval(input(\"Enter breadth\"))\n",
    "    length=eval(input(\"Enter length\"))\n",
    "    area=0.5*length*breadth\n",
    "    print(f\"The area of rectangle is {area}\")"
   ]
  },
  {
   "cell_type": "code",
   "execution_count": 41,
   "id": "68296c96-ab04-4bcf-b4f9-48f5b4d84599",
   "metadata": {},
   "outputs": [
    {
     "name": "stdout",
     "output_type": "stream",
     "text": [
      "The addition is  60\n",
      "The addition is  60\n"
     ]
    }
   ],
   "source": [
    "if(100>10):\n",
    "    a = 10\n",
    "    b = 20\n",
    "    c = 30\n",
    "    print(\"The addition is \",a+b+c)\n",
    "print(\"The addition is \",a+b+c)\n",
    "# Here we will not get the indentation error in the last print statement because  the second one is outside of the if block"
   ]
  },
  {
   "cell_type": "markdown",
   "id": "0d4a0413-a74e-4ba3-8fc0-d870bbb485a0",
   "metadata": {},
   "source": [
    "# if-else"
   ]
  },
  {
   "cell_type": "code",
   "execution_count": 44,
   "id": "447b5e60-9757-4de5-87a6-32049b08c3bd",
   "metadata": {},
   "outputs": [],
   "source": [
    "# syntax\n",
    "\n",
    "#  if(condition here):\n",
    "#     <line1>\n",
    "#  else:\n",
    "#      <line>\n"
   ]
  },
  {
   "cell_type": "code",
   "execution_count": 56,
   "id": "feedbb4b-103d-40c2-b6b7-019f8421cc24",
   "metadata": {},
   "outputs": [
    {
     "name": "stdout",
     "output_type": "stream",
     "text": [
      "condition correct\n",
      "you are in\n"
     ]
    }
   ],
   "source": [
    "if(100>10):\n",
    "    print(\"condition correct\")\n",
    "    print(\"you are in\")\n",
    "else:\n",
    "    print(\"condition wrong\")\n",
    "    print(\"you are out\")"
   ]
  },
  {
   "cell_type": "code",
   "execution_count": 60,
   "id": "39c9c75d-01db-45c6-b3af-8e25b3210ee5",
   "metadata": {},
   "outputs": [
    {
     "ename": "SyntaxError",
     "evalue": "invalid syntax (3958089467.py, line 5)",
     "output_type": "error",
     "traceback": [
      "\u001b[1;36m  Cell \u001b[1;32mIn[60], line 5\u001b[1;36m\u001b[0m\n\u001b[1;33m    else:\u001b[0m\n\u001b[1;37m    ^\u001b[0m\n\u001b[1;31mSyntaxError\u001b[0m\u001b[1;31m:\u001b[0m invalid syntax\n"
     ]
    }
   ],
   "source": [
    "if(100>10):\n",
    "    print(\"condition correct\")\n",
    "    print(\"you are in\")\n",
    "print(\"you are in\")\n",
    "else:\n",
    "    print(\"condition wrong\")\n",
    "    print(\"you are out\")\n",
    "\n",
    "# No lines should be in the middle of if and else. if and else should be together."
   ]
  },
  {
   "cell_type": "code",
   "execution_count": 6,
   "id": "b29aed80-5122-4bd7-840b-4dbdf8d16601",
   "metadata": {},
   "outputs": [
    {
     "name": "stdout",
     "output_type": "stream",
     "text": [
      "Enter the first number: 50\n",
      "Enter the second number: 30\n"
     ]
    },
    {
     "name": "stdout",
     "output_type": "stream",
     "text": [
      "50 is greater then 30\n"
     ]
    }
   ],
   "source": [
    "#print the greatest number\n",
    "\n",
    "num1=eval(input(\"Enter the first number:\"))\n",
    "num2=eval(input(\"Enter the second number:\"))\n",
    "if(num1>num2):\n",
    "    print(f\"{num1} is greater then {num2}\")\n",
    "else:\n",
    "    print(f\"{num2} is greater then {num1}\")   "
   ]
  },
  {
   "cell_type": "code",
   "execution_count": 42,
   "id": "4c8de600-a54c-4d0d-b7be-7b706f01cf1d",
   "metadata": {},
   "outputs": [
    {
     "name": "stdout",
     "output_type": "stream",
     "text": [
      "Enter the distance:- 26\n"
     ]
    },
    {
     "name": "stdout",
     "output_type": "stream",
     "text": [
      "the fare is  20\n"
     ]
    }
   ],
   "source": [
    "#calculate the fare\n",
    "\n",
    "distance=eval(input(\"Enter the distance:-\"))\n",
    "charge=20\n",
    "paid=distance-25\n",
    "if(distance<=25):\n",
    "    print(\"the fare is free\")\n",
    "else:\n",
    "    print(f\"the fare is \", paid*20)"
   ]
  },
  {
   "cell_type": "code",
   "execution_count": null,
   "id": "5dc4b8f4-810b-4074-a9d6-14c90297c859",
   "metadata": {},
   "outputs": [],
   "source": [
    "distance=eval(input(\"Enter the distance:-\"))\n",
    "charge=20\n",
    "paid=distance-25\n",
    "if(distance<=25):\n",
    "    print(\"the fare is free\")\n",
    "else:\n",
    "    print(f\"the fare is \", paid*20)"
   ]
  },
  {
   "cell_type": "code",
   "execution_count": 3,
   "id": "70ba98c5-869e-412f-ab90-ecce6eae30ac",
   "metadata": {},
   "outputs": [
    {
     "name": "stdout",
     "output_type": "stream",
     "text": [
      "cond:how much distance you will travel\n"
     ]
    },
    {
     "name": "stdout",
     "output_type": "stream",
     "text": [
      "Input the distance 56\n",
      "Conductor will say the charge 45\n"
     ]
    },
    {
     "name": "stdout",
     "output_type": "stream",
     "text": [
      "the charge is 2520\n"
     ]
    }
   ],
   "source": [
    "import time\n",
    "# print(\"Geetu:hey mom\")\n",
    "# time.sleep(2)\n",
    "# print(\"mom:hey beta\")\n",
    "# time.sleep(2)\n",
    "# print(\"Geetu:mom do you know that govt has given free ride for us\")\n",
    "# time.sleep(2)\n",
    "# print(\"mom:acha great!!!\")\n",
    "# time.sleep(2)\n",
    "# print(\"Geetu:then we will go to grandmother house\")\n",
    "# time.sleep(2)\n",
    "# print(\"cond:show me your id card\")\n",
    "# time.sleep(2)\n",
    "# print(\"momm:i dont have id card my daughter has\")\n",
    "# time.sleep(2)\n",
    "# print(\"cond:for you we will charge money but for your daughter ride is free\")\n",
    "# time.sleep(2)\n",
    "# print(\"mom:how much\")\n",
    "# time.sleep(2)\n",
    "print(\"cond:how much distance you will travel\")\n",
    "distance=eval(input(\"Input the distance\"))\n",
    "if(distance>25):\n",
    "    charge=eval(input(\"Conductor will say the charge\"))\n",
    "    total=distance*charge\n",
    "    print(f\"the charge is {total}\")\n",
    "else:\n",
    "    print(\"free\")"
   ]
  },
  {
   "cell_type": "code",
   "execution_count": 21,
   "id": "f19ba0f5-66ff-435b-b399-59bcfa191da4",
   "metadata": {},
   "outputs": [
    {
     "name": "stdout",
     "output_type": "stream",
     "text": [
      "Enter course name lkj\n",
      "Enter institute name lko\n"
     ]
    },
    {
     "name": "stdout",
     "output_type": "stream",
     "text": [
      "Bad\n"
     ]
    }
   ],
   "source": [
    "course=input(\"Enter course name\")\n",
    "institute=input(\"Enter institute name\")\n",
    "if course==\"datascience\" and institute==\"nareshit\":\n",
    "    print(\"Good\")\n",
    "else:\n",
    "    print(\"Bad\")"
   ]
  },
  {
   "cell_type": "code",
   "execution_count": 23,
   "id": "e16d9c22-9683-467b-bc2f-aa9f43821160",
   "metadata": {},
   "outputs": [
    {
     "name": "stdout",
     "output_type": "stream",
     "text": [
      "Enter course name datascience\n",
      "Enter institute name nareshit\n"
     ]
    },
    {
     "name": "stdout",
     "output_type": "stream",
     "text": [
      "Good\n"
     ]
    }
   ],
   "source": [
    "course=input(\"Enter course name\")\n",
    "institute=input(\"Enter institute name\")\n",
    "c1=\"datascience\"\n",
    "c2=\"nareshit\"\n",
    "if course==c1 and institute==c2:\n",
    "    print(\"Good\")\n",
    "else:\n",
    "    print(\"Bad\")"
   ]
  },
  {
   "cell_type": "code",
   "execution_count": 31,
   "id": "73d71ad3-73b0-4779-be51-f67966e7fd80",
   "metadata": {},
   "outputs": [
    {
     "name": "stdout",
     "output_type": "stream",
     "text": [
      "Bye\n"
     ]
    }
   ],
   "source": [
    "if 100>10:\n",
    "    print(\"Bye\")"
   ]
  },
  {
   "cell_type": "code",
   "execution_count": 35,
   "id": "ef4e42c7-c946-46df-a177-d16fa478687f",
   "metadata": {},
   "outputs": [
    {
     "data": {
      "text/plain": [
       "True"
      ]
     },
     "execution_count": 35,
     "metadata": {},
     "output_type": "execute_result"
    }
   ],
   "source": [
    "100>10"
   ]
  },
  {
   "cell_type": "code",
   "execution_count": 27,
   "id": "0a67fcda-f884-40e5-97c4-3fdcfa14548f",
   "metadata": {},
   "outputs": [
    {
     "name": "stdout",
     "output_type": "stream",
     "text": [
      "Bye\n"
     ]
    }
   ],
   "source": [
    "if True:\n",
    "    print(\"Bye\")"
   ]
  },
  {
   "cell_type": "code",
   "execution_count": 37,
   "id": "bf204003-0785-4dd9-a55c-c57be18e8930",
   "metadata": {},
   "outputs": [
    {
     "data": {
      "text/plain": [
       "2.5"
      ]
     },
     "execution_count": 37,
     "metadata": {},
     "output_type": "execute_result"
    }
   ],
   "source": [
    "5/2"
   ]
  },
  {
   "cell_type": "code",
   "execution_count": 39,
   "id": "31c6f76f-55c9-4fb2-acf4-3af164531716",
   "metadata": {},
   "outputs": [
    {
     "ename": "ZeroDivisionError",
     "evalue": "division by zero",
     "output_type": "error",
     "traceback": [
      "\u001b[1;31m---------------------------------------------------------------------------\u001b[0m",
      "\u001b[1;31mZeroDivisionError\u001b[0m                         Traceback (most recent call last)",
      "Cell \u001b[1;32mIn[39], line 1\u001b[0m\n\u001b[1;32m----> 1\u001b[0m \u001b[38;5;241m2\u001b[39m\u001b[38;5;241m/\u001b[39m\u001b[38;5;241m0\u001b[39m\n",
      "\u001b[1;31mZeroDivisionError\u001b[0m: division by zero"
     ]
    }
   ],
   "source": [
    "2/0"
   ]
  },
  {
   "cell_type": "code",
   "execution_count": 41,
   "id": "26e4b02e-d195-4d33-9d5c-26274013f10c",
   "metadata": {},
   "outputs": [
    {
     "ename": "ZeroDivisionError",
     "evalue": "division by zero",
     "output_type": "error",
     "traceback": [
      "\u001b[1;31m---------------------------------------------------------------------------\u001b[0m",
      "\u001b[1;31mZeroDivisionError\u001b[0m                         Traceback (most recent call last)",
      "Cell \u001b[1;32mIn[41], line 1\u001b[0m\n\u001b[1;32m----> 1\u001b[0m \u001b[38;5;241m0\u001b[39m\u001b[38;5;241m/\u001b[39m\u001b[38;5;241m0\u001b[39m\n",
      "\u001b[1;31mZeroDivisionError\u001b[0m: division by zero"
     ]
    }
   ],
   "source": [
    "0/0"
   ]
  },
  {
   "cell_type": "code",
   "execution_count": 43,
   "id": "8abefde9-dd36-48ce-87ad-5cd63b49e2f7",
   "metadata": {},
   "outputs": [
    {
     "name": "stdout",
     "output_type": "stream",
     "text": [
      "hello\n",
      "Bye\n",
      "2.5\n"
     ]
    },
    {
     "ename": "ZeroDivisionError",
     "evalue": "division by zero",
     "output_type": "error",
     "traceback": [
      "\u001b[1;31m---------------------------------------------------------------------------\u001b[0m",
      "\u001b[1;31mZeroDivisionError\u001b[0m                         Traceback (most recent call last)",
      "Cell \u001b[1;32mIn[43], line 5\u001b[0m\n\u001b[0;32m      3\u001b[0m \u001b[38;5;28mprint\u001b[39m(\u001b[38;5;124m\"\u001b[39m\u001b[38;5;124mBye\u001b[39m\u001b[38;5;124m\"\u001b[39m)\n\u001b[0;32m      4\u001b[0m \u001b[38;5;28mprint\u001b[39m(\u001b[38;5;241m5\u001b[39m\u001b[38;5;241m/\u001b[39m\u001b[38;5;241m2\u001b[39m)\n\u001b[1;32m----> 5\u001b[0m \u001b[38;5;28mprint\u001b[39m(\u001b[38;5;241m2\u001b[39m\u001b[38;5;241m/\u001b[39m\u001b[38;5;241m0\u001b[39m)\n\u001b[0;32m      6\u001b[0m \u001b[38;5;28mprint\u001b[39m(\u001b[38;5;124m\"\u001b[39m\u001b[38;5;124mhai\u001b[39m\u001b[38;5;124m\"\u001b[39m)\n\u001b[0;32m      7\u001b[0m \u001b[38;5;28mprint\u001b[39m(\u001b[38;5;241m5\u001b[39m\u001b[38;5;241m%\u001b[39m\u001b[38;5;241m2\u001b[39m)\n",
      "\u001b[1;31mZeroDivisionError\u001b[0m: division by zero"
     ]
    }
   ],
   "source": [
    "print(\"hello\")\n",
    "if True:\n",
    "    print(\"Bye\")\n",
    "    print(5/2)\n",
    "    print(2/0)\n",
    "    print(\"hai\")\n",
    "    print(5%2)\n",
    "    print(240)"
   ]
  },
  {
   "cell_type": "markdown",
   "id": "a7984e12-e75f-46c2-83c0-7e4252920620",
   "metadata": {},
   "source": [
    "- the above will stop at the 2/0 because python is a step by step process and it will not execute the code after wards"
   ]
  },
  {
   "cell_type": "code",
   "execution_count": 48,
   "id": "5d35bdb1-afd2-4a9d-a01f-f258b033faa9",
   "metadata": {},
   "outputs": [],
   "source": [
    "# 5/2- normal division - 205\n",
    "# 5//2 - floor division - 2\n",
    "# 5%2 - modulus - 1"
   ]
  },
  {
   "cell_type": "code",
   "execution_count": 52,
   "id": "8c6dcba0-7db7-456c-8646-dd7229f7595c",
   "metadata": {},
   "outputs": [
    {
     "name": "stdout",
     "output_type": "stream",
     "text": [
      "Enter a number 583\n"
     ]
    },
    {
     "name": "stdout",
     "output_type": "stream",
     "text": [
      "Odd\n"
     ]
    }
   ],
   "source": [
    "num=eval(input(\"Enter a number\"))\n",
    "if num%2==0:\n",
    "    print(\"Even\")\n",
    "else:\n",
    "    print(\"Odd\")"
   ]
  },
  {
   "cell_type": "code",
   "execution_count": 64,
   "id": "2c60c830-e02f-4dcb-9de3-28c34d7aa974",
   "metadata": {},
   "outputs": [
    {
     "name": "stdout",
     "output_type": "stream",
     "text": [
      "42\n",
      "Even\n"
     ]
    }
   ],
   "source": [
    "import random\n",
    "num=random.randint(1,100)\n",
    "print(num)\n",
    "if num%2==0:\n",
    "    print(\"Even\")\n",
    "else:\n",
    "    print(\"Odd\")"
   ]
  },
  {
   "cell_type": "code",
   "execution_count": 76,
   "id": "40c71147-ee65-4b7c-9ded-fdadd85d586d",
   "metadata": {},
   "outputs": [
    {
     "name": "stdout",
     "output_type": "stream",
     "text": [
      "4\n"
     ]
    },
    {
     "name": "stdout",
     "output_type": "stream",
     "text": [
      "Enter second number 4\n"
     ]
    },
    {
     "name": "stdout",
     "output_type": "stream",
     "text": [
      "You won\n"
     ]
    }
   ],
   "source": [
    "num1=random.randint(1,10)\n",
    "print(num1)\n",
    "num2=eval(input(\"Enter second number\"))\n",
    "if num1==num2:\n",
    "    print(\"You won\")\n",
    "else:\n",
    "    print(\"loss\")"
   ]
  },
  {
   "cell_type": "code",
   "execution_count": 14,
   "id": "a4d904ab-8dd2-46bc-b0be-71757d7cc7fa",
   "metadata": {},
   "outputs": [
    {
     "name": "stdout",
     "output_type": "stream",
     "text": [
      "Enter a number 5\n"
     ]
    },
    {
     "name": "stdout",
     "output_type": "stream",
     "text": [
      "not divisible by 3\n"
     ]
    }
   ],
   "source": [
    "# divisible by 3 or not\n",
    "\n",
    "num=eval(input(\"Enter a number\"))\n",
    "if num%3==0:\n",
    "    print(\"Divisible by 3\")\n",
    "else :\n",
    "    print(\"not divisible by 3\")"
   ]
  },
  {
   "cell_type": "code",
   "execution_count": 18,
   "id": "b4eb0a6c-b1c5-4eb7-8511-ec027040f352",
   "metadata": {},
   "outputs": [
    {
     "name": "stdout",
     "output_type": "stream",
     "text": [
      "Enter your name hgj\n"
     ]
    },
    {
     "name": "stdout",
     "output_type": "stream",
     "text": [
      "Bye\n"
     ]
    }
   ],
   "source": [
    "name=\"sachin\"\n",
    "name1=input(\"Enter your name\")\n",
    "if name==name1:\n",
    "    print(\"Greeting\")\n",
    "else:\n",
    "    print(\"Bye\")"
   ]
  },
  {
   "cell_type": "code",
   "execution_count": 32,
   "id": "4f3611fc-cf61-48ae-a221-c7e937eba4d8",
   "metadata": {},
   "outputs": [
    {
     "name": "stdout",
     "output_type": "stream",
     "text": [
      "Enter a number 5\n"
     ]
    },
    {
     "name": "stdout",
     "output_type": "stream",
     "text": [
      "None\n"
     ]
    }
   ],
   "source": [
    "num=eval(input(\"Enter a number\"))\n",
    "if num==1:\n",
    "    print(\"One\")\n",
    "elif num==2:\n",
    "    print(\"two\")\n",
    "elif num==3:\n",
    "    print(\"three\")\n",
    "elif num==4:\n",
    "    print(\"four\") \n",
    "else:\n",
    "    print(\"None\")"
   ]
  },
  {
   "cell_type": "code",
   "execution_count": 38,
   "id": "0eeb762c-64b6-4f6a-b430-df5bef7ba6a8",
   "metadata": {},
   "outputs": [
    {
     "name": "stdout",
     "output_type": "stream",
     "text": [
      "Enter a number 1\n"
     ]
    },
    {
     "name": "stdout",
     "output_type": "stream",
     "text": [
      "One\n",
      "None\n"
     ]
    }
   ],
   "source": [
    "num=eval(input(\"Enter a number\"))\n",
    "if num==1:\n",
    "    print(\"One\")\n",
    "if num==2:\n",
    "    print(\"two\")\n",
    "else:\n",
    "    print(\"None\") # it will go through all the if condition"
   ]
  },
  {
   "cell_type": "code",
   "execution_count": 63,
   "id": "b47d8974-0bce-4b30-adbe-d3f09650d26a",
   "metadata": {},
   "outputs": [
    {
     "name": "stdout",
     "output_type": "stream",
     "text": [
      "Enter a percentage 99\n"
     ]
    },
    {
     "name": "stdout",
     "output_type": "stream",
     "text": [
      "A\n"
     ]
    }
   ],
   "source": [
    "per=eval(input(\"Enter a percentage\"))\n",
    "\n",
    "if per>90:\n",
    "    print(\"A\")\n",
    "elif per>=75:\n",
    "    print(\"B\")\n",
    "elif per >=60:\n",
    "    print(\"C\")\n",
    "elif per>=50:\n",
    "    print(\"D\")\n",
    "else:\n",
    "    print(\"Fail\")\n"
   ]
  },
  {
   "cell_type": "markdown",
   "id": "bb17d6ee-55eb-44d7-aa32-66033cae17e1",
   "metadata": {},
   "source": [
    "- in the above the code will stop in the first condition only\n",
    "-  99 - it satisfies all the conditions but the first one will print"
   ]
  },
  {
   "cell_type": "code",
   "execution_count": 77,
   "id": "adbd84a4-06a9-47b5-bf88-a1d9d17998f9",
   "metadata": {},
   "outputs": [
    {
     "name": "stdout",
     "output_type": "stream",
     "text": [
      "Enter the age 4\n"
     ]
    },
    {
     "name": "stdout",
     "output_type": "stream",
     "text": [
      "Kid\n"
     ]
    }
   ],
   "source": [
    "age=eval(input(\"Enter the age\"))\n",
    "if age>60:\n",
    "    print(\"Senior citizen\")\n",
    "elif age>30:\n",
    "    print(\"middle aged\")\n",
    "elif age>20:\n",
    "    print(\"Young\")\n",
    "elif age>10:\n",
    "    print(\"Teenage\")\n",
    "else:\n",
    "    print(\"Kid\")"
   ]
  },
  {
   "cell_type": "code",
   "execution_count": 83,
   "id": "df8612a8-f470-4da5-b4f2-12c90abce32e",
   "metadata": {},
   "outputs": [
    {
     "name": "stdout",
     "output_type": "stream",
     "text": [
      "Enter the distance 15\n",
      "ENTER The charge 2.5\n"
     ]
    },
    {
     "name": "stdout",
     "output_type": "stream",
     "text": [
      "Total charge is 37.5\n"
     ]
    }
   ],
   "source": [
    "distance=eval(input(\"Enter the distance\"))\n",
    "if distance>50:\n",
    "    charge=eval(input(\"ENTER The charge\"))\n",
    "    print(f\"Total charge is {distance*charge}\")\n",
    "elif distance>25:\n",
    "    charge=eval(input(\"ENTER The charge\"))\n",
    "    print(f\"Total charge is {distance*charge}\")\n",
    "elif distance>10:\n",
    "    charge=eval(input(\"ENTER The charge\"))\n",
    "    print(f\"Total charge is {distance*charge}\")\n",
    "else:\n",
    "    print(\"Free ride\")"
   ]
  },
  {
   "cell_type": "code",
   "execution_count": 87,
   "id": "318a2ebc-5b79-4678-86e1-c160b72d672b",
   "metadata": {},
   "outputs": [
    {
     "name": "stdout",
     "output_type": "stream",
     "text": [
      "Enter the first number 56\n",
      "Enter the seccond number 45\n"
     ]
    },
    {
     "name": "stdout",
     "output_type": "stream",
     "text": [
      "1=Addition\n",
      "2=Substraction\n",
      "3=Multiplication\n",
      "4=Division\n"
     ]
    },
    {
     "name": "stdout",
     "output_type": "stream",
     "text": [
      "Enter which operation you want to do? 2\n"
     ]
    },
    {
     "name": "stdout",
     "output_type": "stream",
     "text": [
      "The substraction is 11\n"
     ]
    }
   ],
   "source": [
    "import time\n",
    "num1=eval(input(\"Enter the first number\"))\n",
    "num2=eval(input(\"Enter the second number\"))\n",
    "print(\"1=Addition\")\n",
    "time.sleep(1)\n",
    "print(\"2=Substraction\")\n",
    "time.sleep(1)\n",
    "print(\"3=Multiplication\")\n",
    "time.sleep(1)\n",
    "print(\"4=Division\")\n",
    "time.sleep(1)\n",
    "do=int(input(\"Enter which operation you want to do?\"))\n",
    "if do==1:\n",
    "    print(f\"The addition is {num1+num2}\")\n",
    "elif do==2:\n",
    "    print(f\"The substraction is {num1-num2}\")\n",
    "elif do==3:\n",
    "    print(f\"The multiplication is {num1*num2}\")\n",
    "elif do==4:\n",
    "    print(f\"The division is {num1/num2}\")\n",
    "else:\n",
    "    print(\"Nothing\")"
   ]
  },
  {
   "cell_type": "code",
   "execution_count": 91,
   "id": "754600de-dea2-4415-a036-5dc3b104af9e",
   "metadata": {},
   "outputs": [
    {
     "name": "stdout",
     "output_type": "stream",
     "text": [
      "Enter a number 0\n"
     ]
    },
    {
     "name": "stdout",
     "output_type": "stream",
     "text": [
      "It is a zero\n"
     ]
    }
   ],
   "source": [
    "num=eval(input(\"Enter a number\"))\n",
    "if num>=0:\n",
    "    if num==0:\n",
    "        print(\"It is a zero\")\n",
    "    else:\n",
    "        print(\"It is a positive number\")\n",
    "else:\n",
    "    print(\"Negative\")"
   ]
  },
  {
   "cell_type": "code",
   "execution_count": 95,
   "id": "68a27e5f-2790-4e11-bc83-bdbc93ce2c15",
   "metadata": {},
   "outputs": [
    {
     "name": "stdout",
     "output_type": "stream",
     "text": [
      "Enter the gender female\n",
      "Enter the age 10\n"
     ]
    },
    {
     "name": "stdout",
     "output_type": "stream",
     "text": [
      "girl\n"
     ]
    }
   ],
   "source": [
    "gender=input(\"Enter the gender\")\n",
    "if gender==\"male\":\n",
    "    age=eval(input(\"Enter the age\"))\n",
    "    if age>60:\n",
    "        print(\"Senior citizen\")\n",
    "    elif age>30:\n",
    "        print(\"Middle aged\")\n",
    "    elif age>10:\n",
    "        print(\"Young Man\")\n",
    "    else:\n",
    "        print(\"Boy\")\n",
    "elif gender==\"female\":\n",
    "    age=eval(input(\"Enter the age\"))\n",
    "    if age>60:\n",
    "        print(\"Senior citizen\")\n",
    "    elif age>30:\n",
    "        print(\"Middle aged\")\n",
    "    elif age>10:\n",
    "        print(\"Young woMan\")\n",
    "    else:\n",
    "        print(\"girl\")\n",
    "else:\n",
    "    print(\"Enter a valid gender\")"
   ]
  },
  {
   "cell_type": "markdown",
   "id": "8d0f54ca-b952-42c3-bb7c-2527799a8b44",
   "metadata": {},
   "source": [
    "**absolute**\n",
    "\n",
    "- it is like a mode operator\n",
    "- |-5| = 5\n",
    "\n"
   ]
  },
  {
   "cell_type": "code",
   "execution_count": 7,
   "id": "93990ce0-b240-4186-90c3-0e7c32abfa60",
   "metadata": {},
   "outputs": [
    {
     "data": {
      "text/plain": [
       "3"
      ]
     },
     "execution_count": 7,
     "metadata": {},
     "output_type": "execute_result"
    }
   ],
   "source": [
    "abs(2-5)"
   ]
  },
  {
   "cell_type": "code",
   "execution_count": null,
   "id": "56b1ce8f-12de-498e-b177-8015f857d9f6",
   "metadata": {},
   "outputs": [],
   "source": []
  }
 ],
 "metadata": {
  "kernelspec": {
   "display_name": "Python 3 (ipykernel)",
   "language": "python",
   "name": "python3"
  },
  "language_info": {
   "codemirror_mode": {
    "name": "ipython",
    "version": 3
   },
   "file_extension": ".py",
   "mimetype": "text/x-python",
   "name": "python",
   "nbconvert_exporter": "python",
   "pygments_lexer": "ipython3",
   "version": "3.12.4"
  }
 },
 "nbformat": 4,
 "nbformat_minor": 5
}
